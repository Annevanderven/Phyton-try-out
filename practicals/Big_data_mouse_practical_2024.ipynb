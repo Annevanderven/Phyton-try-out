{
  "cells": [
    {
      "cell_type": "markdown",
      "metadata": {
        "id": "aXvrQraBOZpl"
      },
      "source": [
        "## Open this document in colab (if it is not already done so)\n",
        "\n",
        "[![Open In Colab](https://colab.research.google.com/assets/colab-badge.svg)](https://colab.research.google.com/github/predictive-clinical-neuroscience/BigDataCourse/blob/main/practicals/Big_data_mouse_practical_2024.ipynb)"
      ]
    },
    {
      "cell_type": "markdown",
      "metadata": {
        "id": "rJ21HgPihAbk"
      },
      "source": [
        "## Answers\n",
        "The answers to this practical are here. We encourage you to try to come to the answers by yourself.\n",
        "[![Open In Colab](https://colab.research.google.com/assets/colab-badge.svg)](https://colab.research.google.com/github/predictive-clinical-neuroscience/BigDataCourse/blob/main/practicals/Big_data_mouse_practical_2024_answer.ipynb)\n",
        "\n",
        "https://github.com/predictive-clinical-neuroscience/BigDataCourse/blob/main/practicals/Big_data_mouse_practical_2024_answer.ipynb"
      ]
    },
    {
      "cell_type": "markdown",
      "metadata": {
        "id": "E82tdUEX7lU8"
      },
      "source": [
        "# Big data : Mouse\n",
        "\n",
        "The objectives of this exercise are to familiarize the students with python, especially the processing of large mouse database. Here, we will use a recently published dataset containing mouse brain volume data from ~ 2000 mice.\n",
        "<br>\n",
        "Learning goals:\n",
        "- The student learns to use python through google collab / jupyter notebook\n",
        "- The student learns to use pandas to process large datasets\n",
        "- The student learns to use matplotlib to visualize data\n",
        "- The student is familar with large mouse datasets\n",
        "<br>\n",
        "**References:**\n",
        "1. Ellegood, J., Anagnostou, E., Babineau, B. et al. Clustering autism: using neuroanatomical differences in 26 mouse models to gain insight into the heterogeneity. Mol Psychiatry 20, 118–125 (2015). https://doi.org/10.1038/mp.2014.98\n",
        "2. Rivera-Olvera, A., Houwing, D.J., Ellegood, J. et al. The universe is asymmetric, the mouse brain too. Mol Psychiatry (2024). https://doi.org/10.1038/s41380-024-02687-2\n",
        "3. Original dataset available at: https://portal.conp.ca/dataset?id=projects/braincode_Mouse_Image\n"
      ]
    },
    {
      "cell_type": "markdown",
      "metadata": {
        "id": "pkUlCjXcM-tS"
      },
      "source": [
        "## Foreword and environment\n",
        "This is a Jupyter notebook. This document combines both text (e.g. *this*), and executable code. These are organized into cells. This is a **text** cell."
      ]
    },
    {
      "cell_type": "code",
      "execution_count": 1,
      "metadata": {
        "id": "alNQlF0qNis1",
        "colab": {
          "base_uri": "https://localhost:8080/"
        },
        "outputId": "837b54c1-0318-4626-c75e-aeaedd36d04c"
      },
      "outputs": [
        {
          "output_type": "stream",
          "name": "stdout",
          "text": [
            "This is a code cell\n"
          ]
        }
      ],
      "source": [
        "print('This is a code cell')\n",
        "# This is a comment. The line above will be executed when you click on the 'play' icon on the left. The comment will not be executed."
      ]
    },
    {
      "cell_type": "markdown",
      "metadata": {
        "id": "lKkEa-yuOABV"
      },
      "source": [
        "## Environment basics\n",
        "The default environment is Python3. You can check the version by running the\n",
        "code in the following cell."
      ]
    },
    {
      "cell_type": "code",
      "execution_count": 2,
      "metadata": {
        "id": "YLJUiPefOHss",
        "colab": {
          "base_uri": "https://localhost:8080/"
        },
        "outputId": "f5a937c3-2b93-4d46-899e-661256185db2"
      },
      "outputs": [
        {
          "output_type": "stream",
          "name": "stdout",
          "text": [
            "3.10.12\n"
          ]
        }
      ],
      "source": [
        "import platform  #the import function loads packages (a collection of functions) that isn't available within the default python environment.\n",
        "\n",
        "print(platform.python_version()) #the print function *prints* on screen the content therein. In this particular instance, it *prints* the content from the function `platform.python_version()`"
      ]
    },
    {
      "cell_type": "markdown",
      "metadata": {
        "id": "dwr-VUN_Pzz2"
      },
      "source": [
        "## Editing cells.\n",
        "You can *Double-click* to edit the content of a cell.\n",
        "<br>\n",
        "## Adding new cells.\n",
        "By hovering your mouse above or below a cell, you can add either a *code* cell or a *text* cell\n",
        "<br>\n",
        "## Formating text.\n",
        "You can add emphasis to your text using either the icons on top of the cell while editing, or using [Markdown](https://www.markdownguide.org/cheat-sheet/), a simple text-formating language.\n",
        "<br><br>\n",
        "##### 100% optional (but so good!!)\n",
        "While in Google Colab: Tools -> Settings -> Miscellaneous -> Corgi mode [x]\n"
      ]
    },
    {
      "cell_type": "markdown",
      "metadata": {
        "id": "NHK8v4nuY8vy"
      },
      "source": [
        "### Getting familiar with colab:\n",
        "**Create a code cell, and have it print your name**"
      ]
    },
    {
      "cell_type": "code",
      "source": [
        "print('Anne')"
      ],
      "metadata": {
        "colab": {
          "base_uri": "https://localhost:8080/"
        },
        "id": "gKJLQPPlhnuI",
        "outputId": "1c6a7a8b-b8bf-4c03-d10f-d6904a7712d3"
      },
      "execution_count": 3,
      "outputs": [
        {
          "output_type": "stream",
          "name": "stdout",
          "text": [
            "Anne\n"
          ]
        }
      ]
    },
    {
      "cell_type": "markdown",
      "metadata": {
        "id": "22JO7ww6hAbw"
      },
      "source": [
        "## Environment: packages\n",
        "By default, Python comes only with minimal functions.  \n",
        "Google colab comes with pip pre-installed as well as most packages that you would need for most data analysis tasks. These are:\n",
        "- pandas for data manipulation\n",
        "- numpy for numerical operations\n",
        "- matplotlib for plotting\n",
        "- seaborn for (better) plotting\n",
        "- scipy for statistics\n",
        "\n",
        "each needs to be loaded using the `import` command in python.\n",
        "each package has a manual online with a description of the functions. You can use this as the reference for the functions you will use.\n",
        "\n",
        "in case you need to install a package, you can use the `!pip install THENAMEOFYOURPACKAGE` command."
      ]
    },
    {
      "cell_type": "markdown",
      "metadata": {
        "id": "3pb84v63hAbx"
      },
      "source": [
        "## Note on AI use for coding\n",
        "Google colab comes with AI assited code completion. This can be very useful to find the right function. You can also use chatGPT to help you with the code. **Mind you**, these are not always correct. Using 'old fashioned' methods to find the right function (e.g. google,  stackoverflow, reading the package manual) is often more reliable.\n",
        "\n",
        "We cannot stop you from using AI (nor should we). However, we do encourage you to try to solve the problems yourself, especially as a beginner, so as to learn the basics."
      ]
    },
    {
      "cell_type": "markdown",
      "metadata": {
        "id": "mD3gzQPKhAbx"
      },
      "source": [
        "# Data loading and exploration\n",
        "The first step in any data analysis is to load the data and explore it. As mentioned earlier, this dataset consists of brain volume data from ~2000 mice. The data is stored in a csv file which we import using the read_csv function from the pandas package."
      ]
    },
    {
      "cell_type": "code",
      "execution_count": 4,
      "metadata": {
        "colab": {
          "base_uri": "https://localhost:8080/",
          "height": 290
        },
        "id": "hdV2EAjNhAbx",
        "outputId": "7f3b35d6-b7ea-4be2-fcb1-33c3828dce52"
      },
      "outputs": [
        {
          "output_type": "stream",
          "name": "stderr",
          "text": [
            "<ipython-input-4-8d42eac856ec>:2: DtypeWarning: Columns (4) have mixed types. Specify dtype option on import or set low_memory=False.\n",
            "  df = pd.read_csv('https://raw.githubusercontent.com/predictive-clinical-neuroscience/BigDataCourse/main/data/mouse_autism.csv') #from pandas (pd), we use the read_csv function to read the csv file. We store the data in a variable called df, short for data frame.\n"
          ]
        },
        {
          "output_type": "execute_result",
          "data": {
            "text/plain": [
              "     Mouse_ID Study_Name Is_Wildtype Mouse_Sex Mouse_Age  Mouse_Weight  \\\n",
              "0  TT_15q_717        15q          WT         M    P70-77           NaN   \n",
              "1  TT_15q_718        15q         MUT         M    P70-77           NaN   \n",
              "2  TT_15q_719        15q          WT         M    P70-77           NaN   \n",
              "3  TT_15q_720        15q         MUT         M    P70-77           NaN   \n",
              "4  TT_15q_722        15q          WT         M    P70-77           NaN   \n",
              "\n",
              "  Genotype_Code  dentate_nucleus_right  nucleus_interpositus_left  \\\n",
              "0            WT               0.177992                   0.226057   \n",
              "1           pDp               0.182018                   0.223815   \n",
              "2            WT               0.185226                   0.243459   \n",
              "3           pDp               0.193267                   0.243405   \n",
              "4            WT               0.179960                   0.249123   \n",
              "\n",
              "   thalamus_left  ...  Olfactory_bulb:_mitral_cell_layer_left  \\\n",
              "0       9.759248  ...                                0.648162   \n",
              "1       9.519517  ...                                0.710666   \n",
              "2      10.351511  ...                                0.760831   \n",
              "3       9.960148  ...                                0.728169   \n",
              "4      10.408760  ...                                0.702497   \n",
              "\n",
              "   Olfactory_bulb:_internal_plexiform_layer_left  \\\n",
              "0                                       0.530152   \n",
              "1                                       0.583262   \n",
              "2                                       0.622254   \n",
              "3                                       0.595189   \n",
              "4                                       0.574957   \n",
              "\n",
              "   Olfactory_bulb:_granule_cell_layer_left  \\\n",
              "0                                 2.149071   \n",
              "1                                 2.422023   \n",
              "2                                 2.566074   \n",
              "3                                 2.406004   \n",
              "4                                 2.429699   \n",
              "\n",
              "   Accessory_olfactory_bulb:_glomerular,_external_plexiform_and_mitral_cell_layer_left  \\\n",
              "0                                           0.276940                                     \n",
              "1                                           0.311462                                     \n",
              "2                                           0.293608                                     \n",
              "3                                           0.275194                                     \n",
              "4                                           0.284369                                     \n",
              "\n",
              "   Accessory_olfactory_bulb:_granule_cell_layer_left  \\\n",
              "0                                           0.130818   \n",
              "1                                           0.145130   \n",
              "2                                           0.141564   \n",
              "3                                           0.142664   \n",
              "4                                           0.140794   \n",
              "\n",
              "   Anterior_olfactory_nucleus_left  Medial_amygdala_right  \\\n",
              "0                         1.019970               0.684956   \n",
              "1                         1.127081               0.616302   \n",
              "2                         1.113112               0.611263   \n",
              "3                         1.029186               0.657170   \n",
              "4                         1.095187               0.661461   \n",
              "\n",
              "   Medial_preoptic_nucleus_right  Medial_amygdala_left  \\\n",
              "0                       0.092927              0.576986   \n",
              "1                       0.085706              0.607978   \n",
              "2                       0.094016              0.564259   \n",
              "3                       0.098554              0.538996   \n",
              "4                       0.097791              0.574480   \n",
              "\n",
              "   Medial_preoptic_nucleus_left  \n",
              "0                      0.103273  \n",
              "1                      0.099528  \n",
              "2                      0.104263  \n",
              "3                      0.098580  \n",
              "4                      0.098246  \n",
              "\n",
              "[5 rows x 343 columns]"
            ],
            "text/html": [
              "\n",
              "  <div id=\"df-8fe17682-32a3-4009-8e78-31d4beb0647f\" class=\"colab-df-container\">\n",
              "    <div>\n",
              "<style scoped>\n",
              "    .dataframe tbody tr th:only-of-type {\n",
              "        vertical-align: middle;\n",
              "    }\n",
              "\n",
              "    .dataframe tbody tr th {\n",
              "        vertical-align: top;\n",
              "    }\n",
              "\n",
              "    .dataframe thead th {\n",
              "        text-align: right;\n",
              "    }\n",
              "</style>\n",
              "<table border=\"1\" class=\"dataframe\">\n",
              "  <thead>\n",
              "    <tr style=\"text-align: right;\">\n",
              "      <th></th>\n",
              "      <th>Mouse_ID</th>\n",
              "      <th>Study_Name</th>\n",
              "      <th>Is_Wildtype</th>\n",
              "      <th>Mouse_Sex</th>\n",
              "      <th>Mouse_Age</th>\n",
              "      <th>Mouse_Weight</th>\n",
              "      <th>Genotype_Code</th>\n",
              "      <th>dentate_nucleus_right</th>\n",
              "      <th>nucleus_interpositus_left</th>\n",
              "      <th>thalamus_left</th>\n",
              "      <th>...</th>\n",
              "      <th>Olfactory_bulb:_mitral_cell_layer_left</th>\n",
              "      <th>Olfactory_bulb:_internal_plexiform_layer_left</th>\n",
              "      <th>Olfactory_bulb:_granule_cell_layer_left</th>\n",
              "      <th>Accessory_olfactory_bulb:_glomerular,_external_plexiform_and_mitral_cell_layer_left</th>\n",
              "      <th>Accessory_olfactory_bulb:_granule_cell_layer_left</th>\n",
              "      <th>Anterior_olfactory_nucleus_left</th>\n",
              "      <th>Medial_amygdala_right</th>\n",
              "      <th>Medial_preoptic_nucleus_right</th>\n",
              "      <th>Medial_amygdala_left</th>\n",
              "      <th>Medial_preoptic_nucleus_left</th>\n",
              "    </tr>\n",
              "  </thead>\n",
              "  <tbody>\n",
              "    <tr>\n",
              "      <th>0</th>\n",
              "      <td>TT_15q_717</td>\n",
              "      <td>15q</td>\n",
              "      <td>WT</td>\n",
              "      <td>M</td>\n",
              "      <td>P70-77</td>\n",
              "      <td>NaN</td>\n",
              "      <td>WT</td>\n",
              "      <td>0.177992</td>\n",
              "      <td>0.226057</td>\n",
              "      <td>9.759248</td>\n",
              "      <td>...</td>\n",
              "      <td>0.648162</td>\n",
              "      <td>0.530152</td>\n",
              "      <td>2.149071</td>\n",
              "      <td>0.276940</td>\n",
              "      <td>0.130818</td>\n",
              "      <td>1.019970</td>\n",
              "      <td>0.684956</td>\n",
              "      <td>0.092927</td>\n",
              "      <td>0.576986</td>\n",
              "      <td>0.103273</td>\n",
              "    </tr>\n",
              "    <tr>\n",
              "      <th>1</th>\n",
              "      <td>TT_15q_718</td>\n",
              "      <td>15q</td>\n",
              "      <td>MUT</td>\n",
              "      <td>M</td>\n",
              "      <td>P70-77</td>\n",
              "      <td>NaN</td>\n",
              "      <td>pDp</td>\n",
              "      <td>0.182018</td>\n",
              "      <td>0.223815</td>\n",
              "      <td>9.519517</td>\n",
              "      <td>...</td>\n",
              "      <td>0.710666</td>\n",
              "      <td>0.583262</td>\n",
              "      <td>2.422023</td>\n",
              "      <td>0.311462</td>\n",
              "      <td>0.145130</td>\n",
              "      <td>1.127081</td>\n",
              "      <td>0.616302</td>\n",
              "      <td>0.085706</td>\n",
              "      <td>0.607978</td>\n",
              "      <td>0.099528</td>\n",
              "    </tr>\n",
              "    <tr>\n",
              "      <th>2</th>\n",
              "      <td>TT_15q_719</td>\n",
              "      <td>15q</td>\n",
              "      <td>WT</td>\n",
              "      <td>M</td>\n",
              "      <td>P70-77</td>\n",
              "      <td>NaN</td>\n",
              "      <td>WT</td>\n",
              "      <td>0.185226</td>\n",
              "      <td>0.243459</td>\n",
              "      <td>10.351511</td>\n",
              "      <td>...</td>\n",
              "      <td>0.760831</td>\n",
              "      <td>0.622254</td>\n",
              "      <td>2.566074</td>\n",
              "      <td>0.293608</td>\n",
              "      <td>0.141564</td>\n",
              "      <td>1.113112</td>\n",
              "      <td>0.611263</td>\n",
              "      <td>0.094016</td>\n",
              "      <td>0.564259</td>\n",
              "      <td>0.104263</td>\n",
              "    </tr>\n",
              "    <tr>\n",
              "      <th>3</th>\n",
              "      <td>TT_15q_720</td>\n",
              "      <td>15q</td>\n",
              "      <td>MUT</td>\n",
              "      <td>M</td>\n",
              "      <td>P70-77</td>\n",
              "      <td>NaN</td>\n",
              "      <td>pDp</td>\n",
              "      <td>0.193267</td>\n",
              "      <td>0.243405</td>\n",
              "      <td>9.960148</td>\n",
              "      <td>...</td>\n",
              "      <td>0.728169</td>\n",
              "      <td>0.595189</td>\n",
              "      <td>2.406004</td>\n",
              "      <td>0.275194</td>\n",
              "      <td>0.142664</td>\n",
              "      <td>1.029186</td>\n",
              "      <td>0.657170</td>\n",
              "      <td>0.098554</td>\n",
              "      <td>0.538996</td>\n",
              "      <td>0.098580</td>\n",
              "    </tr>\n",
              "    <tr>\n",
              "      <th>4</th>\n",
              "      <td>TT_15q_722</td>\n",
              "      <td>15q</td>\n",
              "      <td>WT</td>\n",
              "      <td>M</td>\n",
              "      <td>P70-77</td>\n",
              "      <td>NaN</td>\n",
              "      <td>WT</td>\n",
              "      <td>0.179960</td>\n",
              "      <td>0.249123</td>\n",
              "      <td>10.408760</td>\n",
              "      <td>...</td>\n",
              "      <td>0.702497</td>\n",
              "      <td>0.574957</td>\n",
              "      <td>2.429699</td>\n",
              "      <td>0.284369</td>\n",
              "      <td>0.140794</td>\n",
              "      <td>1.095187</td>\n",
              "      <td>0.661461</td>\n",
              "      <td>0.097791</td>\n",
              "      <td>0.574480</td>\n",
              "      <td>0.098246</td>\n",
              "    </tr>\n",
              "  </tbody>\n",
              "</table>\n",
              "<p>5 rows × 343 columns</p>\n",
              "</div>\n",
              "    <div class=\"colab-df-buttons\">\n",
              "\n",
              "  <div class=\"colab-df-container\">\n",
              "    <button class=\"colab-df-convert\" onclick=\"convertToInteractive('df-8fe17682-32a3-4009-8e78-31d4beb0647f')\"\n",
              "            title=\"Convert this dataframe to an interactive table.\"\n",
              "            style=\"display:none;\">\n",
              "\n",
              "  <svg xmlns=\"http://www.w3.org/2000/svg\" height=\"24px\" viewBox=\"0 -960 960 960\">\n",
              "    <path d=\"M120-120v-720h720v720H120Zm60-500h600v-160H180v160Zm220 220h160v-160H400v160Zm0 220h160v-160H400v160ZM180-400h160v-160H180v160Zm440 0h160v-160H620v160ZM180-180h160v-160H180v160Zm440 0h160v-160H620v160Z\"/>\n",
              "  </svg>\n",
              "    </button>\n",
              "\n",
              "  <style>\n",
              "    .colab-df-container {\n",
              "      display:flex;\n",
              "      gap: 12px;\n",
              "    }\n",
              "\n",
              "    .colab-df-convert {\n",
              "      background-color: #E8F0FE;\n",
              "      border: none;\n",
              "      border-radius: 50%;\n",
              "      cursor: pointer;\n",
              "      display: none;\n",
              "      fill: #1967D2;\n",
              "      height: 32px;\n",
              "      padding: 0 0 0 0;\n",
              "      width: 32px;\n",
              "    }\n",
              "\n",
              "    .colab-df-convert:hover {\n",
              "      background-color: #E2EBFA;\n",
              "      box-shadow: 0px 1px 2px rgba(60, 64, 67, 0.3), 0px 1px 3px 1px rgba(60, 64, 67, 0.15);\n",
              "      fill: #174EA6;\n",
              "    }\n",
              "\n",
              "    .colab-df-buttons div {\n",
              "      margin-bottom: 4px;\n",
              "    }\n",
              "\n",
              "    [theme=dark] .colab-df-convert {\n",
              "      background-color: #3B4455;\n",
              "      fill: #D2E3FC;\n",
              "    }\n",
              "\n",
              "    [theme=dark] .colab-df-convert:hover {\n",
              "      background-color: #434B5C;\n",
              "      box-shadow: 0px 1px 3px 1px rgba(0, 0, 0, 0.15);\n",
              "      filter: drop-shadow(0px 1px 2px rgba(0, 0, 0, 0.3));\n",
              "      fill: #FFFFFF;\n",
              "    }\n",
              "  </style>\n",
              "\n",
              "    <script>\n",
              "      const buttonEl =\n",
              "        document.querySelector('#df-8fe17682-32a3-4009-8e78-31d4beb0647f button.colab-df-convert');\n",
              "      buttonEl.style.display =\n",
              "        google.colab.kernel.accessAllowed ? 'block' : 'none';\n",
              "\n",
              "      async function convertToInteractive(key) {\n",
              "        const element = document.querySelector('#df-8fe17682-32a3-4009-8e78-31d4beb0647f');\n",
              "        const dataTable =\n",
              "          await google.colab.kernel.invokeFunction('convertToInteractive',\n",
              "                                                    [key], {});\n",
              "        if (!dataTable) return;\n",
              "\n",
              "        const docLinkHtml = 'Like what you see? Visit the ' +\n",
              "          '<a target=\"_blank\" href=https://colab.research.google.com/notebooks/data_table.ipynb>data table notebook</a>'\n",
              "          + ' to learn more about interactive tables.';\n",
              "        element.innerHTML = '';\n",
              "        dataTable['output_type'] = 'display_data';\n",
              "        await google.colab.output.renderOutput(dataTable, element);\n",
              "        const docLink = document.createElement('div');\n",
              "        docLink.innerHTML = docLinkHtml;\n",
              "        element.appendChild(docLink);\n",
              "      }\n",
              "    </script>\n",
              "  </div>\n",
              "\n",
              "\n",
              "<div id=\"df-5c51fce2-9daf-40ee-9b99-0e2136eea91c\">\n",
              "  <button class=\"colab-df-quickchart\" onclick=\"quickchart('df-5c51fce2-9daf-40ee-9b99-0e2136eea91c')\"\n",
              "            title=\"Suggest charts\"\n",
              "            style=\"display:none;\">\n",
              "\n",
              "<svg xmlns=\"http://www.w3.org/2000/svg\" height=\"24px\"viewBox=\"0 0 24 24\"\n",
              "     width=\"24px\">\n",
              "    <g>\n",
              "        <path d=\"M19 3H5c-1.1 0-2 .9-2 2v14c0 1.1.9 2 2 2h14c1.1 0 2-.9 2-2V5c0-1.1-.9-2-2-2zM9 17H7v-7h2v7zm4 0h-2V7h2v10zm4 0h-2v-4h2v4z\"/>\n",
              "    </g>\n",
              "</svg>\n",
              "  </button>\n",
              "\n",
              "<style>\n",
              "  .colab-df-quickchart {\n",
              "      --bg-color: #E8F0FE;\n",
              "      --fill-color: #1967D2;\n",
              "      --hover-bg-color: #E2EBFA;\n",
              "      --hover-fill-color: #174EA6;\n",
              "      --disabled-fill-color: #AAA;\n",
              "      --disabled-bg-color: #DDD;\n",
              "  }\n",
              "\n",
              "  [theme=dark] .colab-df-quickchart {\n",
              "      --bg-color: #3B4455;\n",
              "      --fill-color: #D2E3FC;\n",
              "      --hover-bg-color: #434B5C;\n",
              "      --hover-fill-color: #FFFFFF;\n",
              "      --disabled-bg-color: #3B4455;\n",
              "      --disabled-fill-color: #666;\n",
              "  }\n",
              "\n",
              "  .colab-df-quickchart {\n",
              "    background-color: var(--bg-color);\n",
              "    border: none;\n",
              "    border-radius: 50%;\n",
              "    cursor: pointer;\n",
              "    display: none;\n",
              "    fill: var(--fill-color);\n",
              "    height: 32px;\n",
              "    padding: 0;\n",
              "    width: 32px;\n",
              "  }\n",
              "\n",
              "  .colab-df-quickchart:hover {\n",
              "    background-color: var(--hover-bg-color);\n",
              "    box-shadow: 0 1px 2px rgba(60, 64, 67, 0.3), 0 1px 3px 1px rgba(60, 64, 67, 0.15);\n",
              "    fill: var(--button-hover-fill-color);\n",
              "  }\n",
              "\n",
              "  .colab-df-quickchart-complete:disabled,\n",
              "  .colab-df-quickchart-complete:disabled:hover {\n",
              "    background-color: var(--disabled-bg-color);\n",
              "    fill: var(--disabled-fill-color);\n",
              "    box-shadow: none;\n",
              "  }\n",
              "\n",
              "  .colab-df-spinner {\n",
              "    border: 2px solid var(--fill-color);\n",
              "    border-color: transparent;\n",
              "    border-bottom-color: var(--fill-color);\n",
              "    animation:\n",
              "      spin 1s steps(1) infinite;\n",
              "  }\n",
              "\n",
              "  @keyframes spin {\n",
              "    0% {\n",
              "      border-color: transparent;\n",
              "      border-bottom-color: var(--fill-color);\n",
              "      border-left-color: var(--fill-color);\n",
              "    }\n",
              "    20% {\n",
              "      border-color: transparent;\n",
              "      border-left-color: var(--fill-color);\n",
              "      border-top-color: var(--fill-color);\n",
              "    }\n",
              "    30% {\n",
              "      border-color: transparent;\n",
              "      border-left-color: var(--fill-color);\n",
              "      border-top-color: var(--fill-color);\n",
              "      border-right-color: var(--fill-color);\n",
              "    }\n",
              "    40% {\n",
              "      border-color: transparent;\n",
              "      border-right-color: var(--fill-color);\n",
              "      border-top-color: var(--fill-color);\n",
              "    }\n",
              "    60% {\n",
              "      border-color: transparent;\n",
              "      border-right-color: var(--fill-color);\n",
              "    }\n",
              "    80% {\n",
              "      border-color: transparent;\n",
              "      border-right-color: var(--fill-color);\n",
              "      border-bottom-color: var(--fill-color);\n",
              "    }\n",
              "    90% {\n",
              "      border-color: transparent;\n",
              "      border-bottom-color: var(--fill-color);\n",
              "    }\n",
              "  }\n",
              "</style>\n",
              "\n",
              "  <script>\n",
              "    async function quickchart(key) {\n",
              "      const quickchartButtonEl =\n",
              "        document.querySelector('#' + key + ' button');\n",
              "      quickchartButtonEl.disabled = true;  // To prevent multiple clicks.\n",
              "      quickchartButtonEl.classList.add('colab-df-spinner');\n",
              "      try {\n",
              "        const charts = await google.colab.kernel.invokeFunction(\n",
              "            'suggestCharts', [key], {});\n",
              "      } catch (error) {\n",
              "        console.error('Error during call to suggestCharts:', error);\n",
              "      }\n",
              "      quickchartButtonEl.classList.remove('colab-df-spinner');\n",
              "      quickchartButtonEl.classList.add('colab-df-quickchart-complete');\n",
              "    }\n",
              "    (() => {\n",
              "      let quickchartButtonEl =\n",
              "        document.querySelector('#df-5c51fce2-9daf-40ee-9b99-0e2136eea91c button');\n",
              "      quickchartButtonEl.style.display =\n",
              "        google.colab.kernel.accessAllowed ? 'block' : 'none';\n",
              "    })();\n",
              "  </script>\n",
              "</div>\n",
              "\n",
              "    </div>\n",
              "  </div>\n"
            ],
            "application/vnd.google.colaboratory.intrinsic+json": {
              "type": "dataframe",
              "variable_name": "df"
            }
          },
          "metadata": {},
          "execution_count": 4
        }
      ],
      "source": [
        "import pandas as pd #importing the pandas package and renaming it as pd. This is a common practice in python programming.\n",
        "df = pd.read_csv('https://raw.githubusercontent.com/predictive-clinical-neuroscience/BigDataCourse/main/data/mouse_autism.csv') #from pandas (pd), we use the read_csv function to read the csv file. We store the data in a variable called df, short for data frame.\n",
        "df.head() #the head function displays the first 5 rows of"
      ]
    },
    {
      "cell_type": "markdown",
      "metadata": {
        "id": "9YBoAWE5hAby"
      },
      "source": [
        "We find that the data consists of many columns, the first 7 are detailing the sample, the remaining columns are the brain volumes for different regions of the brain (e.g. dentate_nucleus_right), expressed in mm^3.\n",
        "Mouse_ID is the unique identifier for each mouse.\n",
        "Study_Name is the name of the study the mouse was part of. Usually, this refers to a gene or genetic manipulation to reproduce one aspect of autism spectrum disorder in transgenic mice.\n",
        "Is_Wildtype indicates if the mouse is a wildtype (WT) mouse or a transgenic (MUT)\n",
        "Mouse_Sex is the mouse sex\n",
        "Mouse_Age is the mouse age in days or day range\n",
        "Mouse_Weight is the mouse weight in grams\n",
        "Genotype_Code is the genotype code for the mouse (e.g. WT, KO, HET, ...)."
      ]
    },
    {
      "cell_type": "markdown",
      "metadata": {
        "id": "iahfStKlhAbz"
      },
      "source": [
        "## Question 1: data exploration\n",
        "We want to get some basic information about the dataset. Want to get the following information:\n",
        "- The total number of rows and colums (hint: use the shape attribute of your dataframe)\n",
        "- The Mouse_ID at the 15th row of the dataset (hint: use the iloc function, remember that python starts counting at 0)\n",
        "- The total number of unique studies (hint: use the nunique function, and select the Study_Name column)\n",
        "- Count how many male and female mice are in the dataset (hint: use the value_counts function and the [] operator to select the colmun you want to count)\n",
        "\n",
        "Links to hints:\n",
        "- [shape](https://pandas.pydata.org/pandas-docs/stable/reference/api/pandas.DataFrame.shape.html)\n",
        "- [iloc](https://pandas.pydata.org/pandas-docs/stable/reference/api/pandas.DataFrame.iloc.html)\n",
        "- [nunique](https://pandas.pydata.org/pandas-docs/stable/reference/api/pandas.Series.nunique.html)\n",
        "- [value_counts](https://pandas.pydata.org/pandas-docs/stable/reference/api/pandas.Series.value_counts.html)"
      ]
    },
    {
      "cell_type": "code",
      "source": [
        "df.shape #number of rows and columns\n",
        "df.loc[14, 'Mouse_ID'] #Mouse id at row 15\n",
        "s = df['Study_Name'] #Select study name\n",
        "s.nunique() #Number of unique studies\n",
        "df.value_counts('Mouse_Sex') #Number of M and F\n"
      ],
      "metadata": {
        "colab": {
          "base_uri": "https://localhost:8080/",
          "height": 178
        },
        "id": "q4b_pbC4iMGr",
        "outputId": "782a4ea0-6cb4-41f6-9666-31d5506d922f"
      },
      "execution_count": 20,
      "outputs": [
        {
          "output_type": "execute_result",
          "data": {
            "text/plain": [
              "Mouse_Sex\n",
              "M    1369\n",
              "F     815\n",
              "Name: count, dtype: int64"
            ],
            "text/html": [
              "<div>\n",
              "<style scoped>\n",
              "    .dataframe tbody tr th:only-of-type {\n",
              "        vertical-align: middle;\n",
              "    }\n",
              "\n",
              "    .dataframe tbody tr th {\n",
              "        vertical-align: top;\n",
              "    }\n",
              "\n",
              "    .dataframe thead th {\n",
              "        text-align: right;\n",
              "    }\n",
              "</style>\n",
              "<table border=\"1\" class=\"dataframe\">\n",
              "  <thead>\n",
              "    <tr style=\"text-align: right;\">\n",
              "      <th></th>\n",
              "      <th>count</th>\n",
              "    </tr>\n",
              "    <tr>\n",
              "      <th>Mouse_Sex</th>\n",
              "      <th></th>\n",
              "    </tr>\n",
              "  </thead>\n",
              "  <tbody>\n",
              "    <tr>\n",
              "      <th>M</th>\n",
              "      <td>1369</td>\n",
              "    </tr>\n",
              "    <tr>\n",
              "      <th>F</th>\n",
              "      <td>815</td>\n",
              "    </tr>\n",
              "  </tbody>\n",
              "</table>\n",
              "</div><br><label><b>dtype:</b> int64</label>"
            ]
          },
          "metadata": {},
          "execution_count": 20
        }
      ]
    },
    {
      "cell_type": "markdown",
      "metadata": {
        "id": "UsV4CbgahAbz"
      },
      "source": [
        "## Question 2: data manipulation\n",
        "Here we want to learn to manipulate the data for our purposes.\n",
        "- Create a subset of df that only contains the columns from the 8th to the last column (hint: use the iloc function with the : operator)\n",
        "- Create a new column in df that contains the total brain volume for each mouse. This is the sum of all the columns from your previously subsetted dataframe (hint: use the sum function with the axis=1 argument, the total brain volume should be in the 500 mm^3 range)\n",
        "- Create a subset of df that only contains the data for the 'Chd8_Basson' study. Chd8 is a gene that is associated with an enlarged brain in autism. **You should have 24 rows left!** (hint: use the [] operator with a condition inside to select only the rows that match, e.g. df[df['YOURCOLUMN']=='YOURVALUE'])\n",
        "\n",
        "Links to hints:\n",
        "- [using operators in pandas](https://pandas.pydata.org/pandas-docs/stable/user_guide/indexing.html)\n",
        "- [iloc](https://pandas.pydata.org/pandas-docs/stable/reference/api/pandas.DataFrame.iloc.html)\n",
        "- [sum](https://pandas.pydata.org/pandas-docs/stable/reference/api/pandas.DataFrame.sum.html)"
      ]
    },
    {
      "cell_type": "code",
      "source": [
        "df_new = df.iloc[:, 7:] #Column 8 till the end\n",
        "df['Total_Brain_Volume'] = df_new.sum(axis=1) #Total brain volume for each mouse\n",
        "df_chd8 = df[df['Study_Name']=='Chd8_Basson'] #Only from the Chd8_Basson study, indeed 24 rows left"
      ],
      "metadata": {
        "id": "rC6npho6q7_d"
      },
      "execution_count": 50,
      "outputs": []
    },
    {
      "cell_type": "markdown",
      "metadata": {
        "id": "55-n28a_hAbz"
      },
      "source": [
        "## Question 3: data visualization and statistics\n",
        "Here we want to visualize the data and perform some basic statistics.\n",
        "- Make a boxplot of the total brain volume on the y-axis and Genotype_Code on the x-axis. (hint: you can use the the boxplot function from pandas (easy), matplotlib (nice) or seaborn (nicer), don't forget to import matplotlib or seaborn, dont forget to add axis labes!)\n",
        "- Make a t-test to compare the total brain volume between WT and KO mice in the Chd8_Basson study. (hint: use the ttest_ind function from the scipy package, don't forget to import scipy !)\n",
        "\n",
        "Links to hints:\n",
        "- [boxplot using matplotlib](https://matplotlib.org/stable/gallery/statistics/boxplot_color.html)\n",
        "- [boxplot using seaborn](https://seaborn.pydata.org/generated/seaborn.boxplot.html)\n",
        "- [ttest_ind](https://docs.scipy.org/doc/scipy/reference/generated/scipy.stats.ttest_ind.html)"
      ]
    },
    {
      "cell_type": "code",
      "source": [
        "import matplotlib.pyplot as plt\n",
        "import numpy as np\n",
        "import seaborn as ns\n",
        "from scipy import stats\n",
        "\n",
        "custom_palette = {'WT': 'red', 'Chd8': 'blue'} #Create a own palette\n",
        "plt.figsize=(10,6)\n",
        "ns.boxplot(x='Genotype_Code', y='Total_Brain_Volume', data=df_chd8, palette=custom_palette, hue='Genotype_Code') #Make a boxplot\n",
        "plt.xlabel('Genotype') #Make a boxplot\n",
        "plt.title('Total brain volume per genotype')\n",
        "plt.show()\n",
        "\n",
        "WT_genotype = df_chd8[df_chd8['Genotype_Code']=='WT']['Total_Brain_Volume']\n",
        "Chd8_genotype = df_chd8[df_chd8['Genotype_Code']=='Chd8']['Total_Brain_Volume']\n",
        "\n",
        "t_stat, p_value = stats.ttest_ind(WT_genotype, Chd8_genotype) #Independent t-test with t-statistic and p-value\n",
        "print(f\"T-statistic: {t_stat}\")\n",
        "print(f\"P-value: {p_value}\")"
      ],
      "metadata": {
        "colab": {
          "base_uri": "https://localhost:8080/",
          "height": 507
        },
        "id": "0ZufgmOTuxUw",
        "outputId": "02b774e5-ceed-4c03-d524-0e6f43377100"
      },
      "execution_count": 74,
      "outputs": [
        {
          "output_type": "display_data",
          "data": {
            "text/plain": [
              "<Figure size 640x480 with 1 Axes>"
            ],
            "image/png": "[encoded data removed]"
          },
          "metadata": {}
        },
        {
          "output_type": "stream",
          "name": "stdout",
          "text": [
            "T-statistic: -1.5925672368610184\n",
            "P-value: 0.12552486345669306\n"
          ]
        }
      ]
    }
  ],
  "metadata": {
    "colab": {
      "name": "Big_data_mouse_practical_2020.ipynb",
      "provenance": [],
      "toc_visible": true
    },
    "kernelspec": {
      "display_name": "Python 3",
      "language": "python",
      "name": "python3"
    },
    "language_info": {
      "codemirror_mode": {
        "name": "ipython",
        "version": 3
      },
      "file_extension": ".py",
      "mimetype": "text/x-python",
      "name": "python",
      "nbconvert_exporter": "python",
      "pygments_lexer": "ipython3",
      "version": "3.12.7"
    }
  },
  "nbformat": 4,
  "nbformat_minor": 0
}